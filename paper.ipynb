{
 "cells": [
  {
   "cell_type": "code",
   "execution_count": 1,
   "id": "enormous-moscow",
   "metadata": {
    "scrolled": true
   },
   "outputs": [
    {
     "name": "stdout",
     "output_type": "stream",
     "text": [
      "輸入週期路徑 要求的矩陣的第ij項001 3 3\n"
     ]
    },
    {
     "data": {
      "image/png": "[encoded data removed]",
      "text/latex": [
       "$\\displaystyle ({b_{n-2}(0)} + b_{n-2}) b_{n-1}(0)$"
      ],
      "text/plain": [
       "({b_{n-2}(0)} + b_{n-2})⋅b_{n-1}(0)"
      ]
     },
     "execution_count": 1,
     "metadata": {},
     "output_type": "execute_result"
    }
   ],
   "source": [
    "path,i,j = input(\"輸入週期路徑 要求的矩陣的第ij項\").split()\n",
    "\n",
    "S = path+path[0]\n",
    "i = int(i)\n",
    "j = int(j)\n",
    "n = len(S)-1\n",
    "\n",
    "def fib(k):\n",
    "    if k==1 or k==2:\n",
    "        return 1\n",
    "    return fib(k-1)+fib(k-2)\n",
    "\n",
    "import re\n",
    "q=[]\n",
    "res=[]\n",
    "for k in range(2**n):\n",
    "    q.append(format(k,\"b\").zfill(n))\n",
    "    if re.search(\"11\",q[k]) != None:\n",
    "        q[k]=None\n",
    "for s in q:\n",
    "    if s != None:\n",
    "        res.append(s)\n",
    "\n",
    "a1 = 0 \n",
    "a2 = 0\n",
    "b1 = 0\n",
    "b2 = 0\n",
    "c1 = 0\n",
    "if i > fib(n+2) or j > fib(n+2):\n",
    "    print (\"out of range\")\n",
    "elif res[j-1][n-1] == \"1\" and res[i-1][0] == \"1\":\n",
    "    print (\"0\")\n",
    "else :\n",
    "    for w in range(n):\n",
    "        if S[w:w+2] == \"00\" and res[i-1][w] == \"0\":\n",
    "            a1 = a1+1\n",
    "        if S[w:w+2] == \"00\" and res[i-1][w] == \"1\":\n",
    "            a2 = a2+1\n",
    "        if S[w:w+2] == \"01\" and res[i-1][w] == \"0\":\n",
    "            b1 = b1+1\n",
    "        if S[w:w+2] == \"01\" and res[i-1][w] == \"1\":\n",
    "            b2 = b2+1\n",
    "        if S[w:w+2] == \"10\":\n",
    "            c1 = c1+1\n",
    "\n",
    "import numpy as np\n",
    "import sympy\n",
    "sympy.init_printing()\n",
    "K = sympy.Symbol('({b_{n-2}(0)} + b_{n-2})')\n",
    "L = sympy.Symbol('b_{n-2}')\n",
    "M = sympy.Symbol('b_{n-1}')\n",
    "N = sympy.Symbol('b_{n-1}(0)')\n",
    "K**a1*L**a2*M**b1*N**b2"
   ]
  },
  {
   "cell_type": "code",
   "execution_count": null,
   "id": "linear-clearing",
   "metadata": {},
   "outputs": [],
   "source": []
  }
 ],
 "metadata": {
  "kernelspec": {
   "display_name": "Python 3",
   "language": "python",
   "name": "python3"
  },
  "language_info": {
   "codemirror_mode": {
    "name": "ipython",
    "version": 3
   },
   "file_extension": ".py",
   "mimetype": "text/x-python",
   "name": "python",
   "nbconvert_exporter": "python",
   "pygments_lexer": "ipython3",
   "version": "3.7.9"
  }
 },
 "nbformat": 4,
 "nbformat_minor": 5
}
